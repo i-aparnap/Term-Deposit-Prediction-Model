{
 "cells": [
  {
   "cell_type": "markdown",
   "id": "c51c5a56-b7ff-46a9-b781-d200e381fc40",
   "metadata": {},
   "source": [
    "**Title of ML project: Term Deposit Prediction Model (Bank Marketing)**\n",
    "\n",
    "**Name:** Aparna P\n",
    "\n",
    "**Organization:** Entri Elevate\n",
    "\n",
    "**Date:** 13-7-2025"
   ]
  },
  {
   "cell_type": "markdown",
   "id": "55e6f4d7-ef16-4397-9841-fb227d64db6c",
   "metadata": {},
   "source": [
    "1.**Overview of Problem Statement:**\n",
    "\n",
    "The project focuses on developing a predictive model to determine whether a bank client will subscribe to a term deposit product based on historical telemarketing data. The data was collected from direct marketing campaigns (via phone calls) conducted by a Portuguese banking institution.\n",
    "\n",
    "The bank aims to optimize marketing efforts by identifying which clients are more likely to subscribe, thereby reducing unnecessary contacts, saving costs, and improving campaign effectiveness.\n",
    "\n",
    "The classification problem involves multiple customer-related features such as demographics, past interactions, and campaign outcomes, which are used to predict the binary outcome variable y — ‘yes’ (client subscribed) or ‘no’ (client did not subscribe)."
   ]
  },
  {
   "cell_type": "markdown",
   "id": "b79f9612-0633-4877-83f3-587acfaf6c10",
   "metadata": {},
   "source": [
    "2.**Objective:**\n",
    "   \n",
    "To build a classification model that predicts whether a client will subscribe to a term deposit based on data collected during telemarketing campaigns by a Portuguese bank."
   ]
  },
  {
   "cell_type": "markdown",
   "id": "5148a001-c564-44a5-9cae-f433516a09be",
   "metadata": {},
   "source": [
    "3.**Data Description:**\n",
    "\n",
    "#####   Source: UC irvene Machine Learning Repository:https://archive.ics.uci.edu/dataset/222/bank+marketing  \n",
    "#####   Features:  16\n",
    "   1 - age (numeric)  \n",
    "   2 - job : type of job (categorical: \"admin.\",\"unknown\",\"unemployed\",\"management\",\"housemaid\",\"entrepreneur\",\"student\",\n",
    "                                       \"blue-collar\",\"self-employed\",\"retired\",\"technician\",\"services\")  \n",
    "   3 - marital : marital status (categorical: \"married\",\"divorced\",\"single\"; note: \"divorced\" means divorced or widowed)  \n",
    "   4 - education (categorical: \"unknown\",\"secondary\",\"primary\",\"tertiary\")  \n",
    "   5 - default: has credit in default? (binary: \"yes\",\"no\")  \n",
    "   6 - balance: average yearly balance, in euros (numeric)  \n",
    "   7 - housing: has housing loan? (binary: \"yes\",\"no\")  \n",
    "   8 - loan: has personal loan? (binary: \"yes\",\"no\")  \n",
    "   9 - contact: contact communication type (categorical: \"unknown\",\"telephone\",\"cellular\")  \n",
    "   10 - day: last contact day of the month (numeric)  \n",
    "   11 - month: last contact month of year (categorical: \"jan\", \"feb\", \"mar\", ..., \"nov\", \"dec\")  \n",
    "   12 - duration: last contact duration, in seconds (numeric)  \n",
    "   13 - campaign: number of contacts performed during this campaign and for this client (numeric, includes last contact)  \n",
    "   14 - pdays: number of days that passed by after the client was last contacted from a previous campaign  \n",
    "    (numeric, -1 means client was not previously contacted)  \n",
    "   15 - previous: number of contacts performed before this campaign and for this client (numeric)  \n",
    "   16 - poutcome: outcome of the previous marketing campaign (categorical: \"unknown\",\"other\",\"failure\",\"success\")  \n",
    "  Output variable (desired target):  \n",
    "17 - y - has the client subscribed a term deposit? (binary: \"yes\",\"no\")  \n"
   ]
  },
  {
   "cell_type": "markdown",
   "id": "8750c4ab-312c-4f07-b5f2-8921a845e2c5",
   "metadata": {},
   "source": [
    "4.**Data Collection:**"
   ]
  },
  {
   "cell_type": "code",
   "execution_count": 233,
   "id": "771546a2-3c9d-442c-b9f0-28cb677df34f",
   "metadata": {},
   "outputs": [
    {
     "name": "stdout",
     "output_type": "stream",
     "text": [
      "Number of Rows (Instances): 45211\n",
      "Number of Columns (Features): 17\n"
     ]
    }
   ],
   "source": [
    "import pandas as pd\n",
    "df = pd.read_csv('anaconda3/classnotebook/bank-full.csv',sep=';')\n",
    "print(\"Number of Rows (Instances):\", df.shape[0])\n",
    "print(\"Number of Columns (Features):\", df.shape[1])"
   ]
  },
  {
   "cell_type": "code",
   "execution_count": 234,
   "id": "d8a84a34-6e5f-4b70-ad54-cccfc9936b6e",
   "metadata": {},
   "outputs": [
    {
     "data": {
      "text/html": [
       "<div>\n",
       "<style scoped>\n",
       "    .dataframe tbody tr th:only-of-type {\n",
       "        vertical-align: middle;\n",
       "    }\n",
       "\n",
       "    .dataframe tbody tr th {\n",
       "        vertical-align: top;\n",
       "    }\n",
       "\n",
       "    .dataframe thead th {\n",
       "        text-align: right;\n",
       "    }\n",
       "</style>\n",
       "<table border=\"1\" class=\"dataframe\">\n",
       "  <thead>\n",
       "    <tr style=\"text-align: right;\">\n",
       "      <th></th>\n",
       "      <th>age</th>\n",
       "      <th>job</th>\n",
       "      <th>marital</th>\n",
       "      <th>education</th>\n",
       "      <th>default</th>\n",
       "      <th>balance</th>\n",
       "      <th>housing</th>\n",
       "      <th>loan</th>\n",
       "      <th>contact</th>\n",
       "      <th>day</th>\n",
       "      <th>month</th>\n",
       "      <th>duration</th>\n",
       "      <th>campaign</th>\n",
       "      <th>pdays</th>\n",
       "      <th>previous</th>\n",
       "      <th>poutcome</th>\n",
       "      <th>y</th>\n",
       "    </tr>\n",
       "  </thead>\n",
       "  <tbody>\n",
       "    <tr>\n",
       "      <th>0</th>\n",
       "      <td>58</td>\n",
       "      <td>management</td>\n",
       "      <td>married</td>\n",
       "      <td>tertiary</td>\n",
       "      <td>no</td>\n",
       "      <td>2143</td>\n",
       "      <td>yes</td>\n",
       "      <td>no</td>\n",
       "      <td>unknown</td>\n",
       "      <td>5</td>\n",
       "      <td>may</td>\n",
       "      <td>261</td>\n",
       "      <td>1</td>\n",
       "      <td>-1</td>\n",
       "      <td>0</td>\n",
       "      <td>unknown</td>\n",
       "      <td>no</td>\n",
       "    </tr>\n",
       "    <tr>\n",
       "      <th>1</th>\n",
       "      <td>44</td>\n",
       "      <td>technician</td>\n",
       "      <td>single</td>\n",
       "      <td>secondary</td>\n",
       "      <td>no</td>\n",
       "      <td>29</td>\n",
       "      <td>yes</td>\n",
       "      <td>no</td>\n",
       "      <td>unknown</td>\n",
       "      <td>5</td>\n",
       "      <td>may</td>\n",
       "      <td>151</td>\n",
       "      <td>1</td>\n",
       "      <td>-1</td>\n",
       "      <td>0</td>\n",
       "      <td>unknown</td>\n",
       "      <td>no</td>\n",
       "    </tr>\n",
       "    <tr>\n",
       "      <th>2</th>\n",
       "      <td>33</td>\n",
       "      <td>entrepreneur</td>\n",
       "      <td>married</td>\n",
       "      <td>secondary</td>\n",
       "      <td>no</td>\n",
       "      <td>2</td>\n",
       "      <td>yes</td>\n",
       "      <td>yes</td>\n",
       "      <td>unknown</td>\n",
       "      <td>5</td>\n",
       "      <td>may</td>\n",
       "      <td>76</td>\n",
       "      <td>1</td>\n",
       "      <td>-1</td>\n",
       "      <td>0</td>\n",
       "      <td>unknown</td>\n",
       "      <td>no</td>\n",
       "    </tr>\n",
       "    <tr>\n",
       "      <th>3</th>\n",
       "      <td>47</td>\n",
       "      <td>blue-collar</td>\n",
       "      <td>married</td>\n",
       "      <td>unknown</td>\n",
       "      <td>no</td>\n",
       "      <td>1506</td>\n",
       "      <td>yes</td>\n",
       "      <td>no</td>\n",
       "      <td>unknown</td>\n",
       "      <td>5</td>\n",
       "      <td>may</td>\n",
       "      <td>92</td>\n",
       "      <td>1</td>\n",
       "      <td>-1</td>\n",
       "      <td>0</td>\n",
       "      <td>unknown</td>\n",
       "      <td>no</td>\n",
       "    </tr>\n",
       "    <tr>\n",
       "      <th>4</th>\n",
       "      <td>33</td>\n",
       "      <td>unknown</td>\n",
       "      <td>single</td>\n",
       "      <td>unknown</td>\n",
       "      <td>no</td>\n",
       "      <td>1</td>\n",
       "      <td>no</td>\n",
       "      <td>no</td>\n",
       "      <td>unknown</td>\n",
       "      <td>5</td>\n",
       "      <td>may</td>\n",
       "      <td>198</td>\n",
       "      <td>1</td>\n",
       "      <td>-1</td>\n",
       "      <td>0</td>\n",
       "      <td>unknown</td>\n",
       "      <td>no</td>\n",
       "    </tr>\n",
       "  </tbody>\n",
       "</table>\n",
       "</div>"
      ],
      "text/plain": [
       "   age           job  marital  education default  balance housing loan  \\\n",
       "0   58    management  married   tertiary      no     2143     yes   no   \n",
       "1   44    technician   single  secondary      no       29     yes   no   \n",
       "2   33  entrepreneur  married  secondary      no        2     yes  yes   \n",
       "3   47   blue-collar  married    unknown      no     1506     yes   no   \n",
       "4   33       unknown   single    unknown      no        1      no   no   \n",
       "\n",
       "   contact  day month  duration  campaign  pdays  previous poutcome   y  \n",
       "0  unknown    5   may       261         1     -1         0  unknown  no  \n",
       "1  unknown    5   may       151         1     -1         0  unknown  no  \n",
       "2  unknown    5   may        76         1     -1         0  unknown  no  \n",
       "3  unknown    5   may        92         1     -1         0  unknown  no  \n",
       "4  unknown    5   may       198         1     -1         0  unknown  no  "
      ]
     },
     "execution_count": 234,
     "metadata": {},
     "output_type": "execute_result"
    }
   ],
   "source": [
    "# Check the first few rows\n",
    "df.head(5)"
   ]
  },
  {
   "cell_type": "code",
   "execution_count": 235,
   "id": "f9d485a1-d3b9-46b8-a566-60da928a2a11",
   "metadata": {},
   "outputs": [
    {
     "data": {
      "text/plain": [
       "(45211, 17)"
      ]
     },
     "execution_count": 235,
     "metadata": {},
     "output_type": "execute_result"
    }
   ],
   "source": [
    "# Shape of the dataset\n",
    "df.shape"
   ]
  },
  {
   "cell_type": "code",
   "execution_count": 236,
   "id": "0ee57f83-f2c0-4225-ac53-6ef2db0ad105",
   "metadata": {},
   "outputs": [
    {
     "data": {
      "text/plain": [
       "0"
      ]
     },
     "execution_count": 236,
     "metadata": {},
     "output_type": "execute_result"
    }
   ],
   "source": [
    "# checking for duplicated values\n",
    "df.duplicated().sum()"
   ]
  },
  {
   "cell_type": "code",
   "execution_count": 237,
   "id": "e8c55fab-32ba-41e7-b91d-9104bc5b0d04",
   "metadata": {},
   "outputs": [
    {
     "name": "stdout",
     "output_type": "stream",
     "text": [
      "<class 'pandas.core.frame.DataFrame'>\n",
      "RangeIndex: 45211 entries, 0 to 45210\n",
      "Data columns (total 17 columns):\n",
      " #   Column     Non-Null Count  Dtype \n",
      "---  ------     --------------  ----- \n",
      " 0   age        45211 non-null  int64 \n",
      " 1   job        45211 non-null  object\n",
      " 2   marital    45211 non-null  object\n",
      " 3   education  45211 non-null  object\n",
      " 4   default    45211 non-null  object\n",
      " 5   balance    45211 non-null  int64 \n",
      " 6   housing    45211 non-null  object\n",
      " 7   loan       45211 non-null  object\n",
      " 8   contact    45211 non-null  object\n",
      " 9   day        45211 non-null  int64 \n",
      " 10  month      45211 non-null  object\n",
      " 11  duration   45211 non-null  int64 \n",
      " 12  campaign   45211 non-null  int64 \n",
      " 13  pdays      45211 non-null  int64 \n",
      " 14  previous   45211 non-null  int64 \n",
      " 15  poutcome   45211 non-null  object\n",
      " 16  y          45211 non-null  object\n",
      "dtypes: int64(7), object(10)\n",
      "memory usage: 5.9+ MB\n"
     ]
    }
   ],
   "source": [
    "# Data types and non-null counts\n",
    "df.info()"
   ]
  },
  {
   "cell_type": "code",
   "execution_count": 238,
   "id": "a9724db8-d72c-45db-91da-6cc19321ef12",
   "metadata": {},
   "outputs": [
    {
     "data": {
      "text/html": [
       "<div>\n",
       "<style scoped>\n",
       "    .dataframe tbody tr th:only-of-type {\n",
       "        vertical-align: middle;\n",
       "    }\n",
       "\n",
       "    .dataframe tbody tr th {\n",
       "        vertical-align: top;\n",
       "    }\n",
       "\n",
       "    .dataframe thead th {\n",
       "        text-align: right;\n",
       "    }\n",
       "</style>\n",
       "<table border=\"1\" class=\"dataframe\">\n",
       "  <thead>\n",
       "    <tr style=\"text-align: right;\">\n",
       "      <th></th>\n",
       "      <th>age</th>\n",
       "      <th>balance</th>\n",
       "      <th>day</th>\n",
       "      <th>duration</th>\n",
       "      <th>campaign</th>\n",
       "      <th>pdays</th>\n",
       "      <th>previous</th>\n",
       "    </tr>\n",
       "  </thead>\n",
       "  <tbody>\n",
       "    <tr>\n",
       "      <th>count</th>\n",
       "      <td>45211.000000</td>\n",
       "      <td>45211.000000</td>\n",
       "      <td>45211.000000</td>\n",
       "      <td>45211.000000</td>\n",
       "      <td>45211.000000</td>\n",
       "      <td>45211.000000</td>\n",
       "      <td>45211.000000</td>\n",
       "    </tr>\n",
       "    <tr>\n",
       "      <th>mean</th>\n",
       "      <td>40.936210</td>\n",
       "      <td>1362.272058</td>\n",
       "      <td>15.806419</td>\n",
       "      <td>258.163080</td>\n",
       "      <td>2.763841</td>\n",
       "      <td>40.197828</td>\n",
       "      <td>0.580323</td>\n",
       "    </tr>\n",
       "    <tr>\n",
       "      <th>std</th>\n",
       "      <td>10.618762</td>\n",
       "      <td>3044.765829</td>\n",
       "      <td>8.322476</td>\n",
       "      <td>257.527812</td>\n",
       "      <td>3.098021</td>\n",
       "      <td>100.128746</td>\n",
       "      <td>2.303441</td>\n",
       "    </tr>\n",
       "    <tr>\n",
       "      <th>min</th>\n",
       "      <td>18.000000</td>\n",
       "      <td>-8019.000000</td>\n",
       "      <td>1.000000</td>\n",
       "      <td>0.000000</td>\n",
       "      <td>1.000000</td>\n",
       "      <td>-1.000000</td>\n",
       "      <td>0.000000</td>\n",
       "    </tr>\n",
       "    <tr>\n",
       "      <th>25%</th>\n",
       "      <td>33.000000</td>\n",
       "      <td>72.000000</td>\n",
       "      <td>8.000000</td>\n",
       "      <td>103.000000</td>\n",
       "      <td>1.000000</td>\n",
       "      <td>-1.000000</td>\n",
       "      <td>0.000000</td>\n",
       "    </tr>\n",
       "    <tr>\n",
       "      <th>50%</th>\n",
       "      <td>39.000000</td>\n",
       "      <td>448.000000</td>\n",
       "      <td>16.000000</td>\n",
       "      <td>180.000000</td>\n",
       "      <td>2.000000</td>\n",
       "      <td>-1.000000</td>\n",
       "      <td>0.000000</td>\n",
       "    </tr>\n",
       "    <tr>\n",
       "      <th>75%</th>\n",
       "      <td>48.000000</td>\n",
       "      <td>1428.000000</td>\n",
       "      <td>21.000000</td>\n",
       "      <td>319.000000</td>\n",
       "      <td>3.000000</td>\n",
       "      <td>-1.000000</td>\n",
       "      <td>0.000000</td>\n",
       "    </tr>\n",
       "    <tr>\n",
       "      <th>max</th>\n",
       "      <td>95.000000</td>\n",
       "      <td>102127.000000</td>\n",
       "      <td>31.000000</td>\n",
       "      <td>4918.000000</td>\n",
       "      <td>63.000000</td>\n",
       "      <td>871.000000</td>\n",
       "      <td>275.000000</td>\n",
       "    </tr>\n",
       "  </tbody>\n",
       "</table>\n",
       "</div>"
      ],
      "text/plain": [
       "                age        balance           day      duration      campaign  \\\n",
       "count  45211.000000   45211.000000  45211.000000  45211.000000  45211.000000   \n",
       "mean      40.936210    1362.272058     15.806419    258.163080      2.763841   \n",
       "std       10.618762    3044.765829      8.322476    257.527812      3.098021   \n",
       "min       18.000000   -8019.000000      1.000000      0.000000      1.000000   \n",
       "25%       33.000000      72.000000      8.000000    103.000000      1.000000   \n",
       "50%       39.000000     448.000000     16.000000    180.000000      2.000000   \n",
       "75%       48.000000    1428.000000     21.000000    319.000000      3.000000   \n",
       "max       95.000000  102127.000000     31.000000   4918.000000     63.000000   \n",
       "\n",
       "              pdays      previous  \n",
       "count  45211.000000  45211.000000  \n",
       "mean      40.197828      0.580323  \n",
       "std      100.128746      2.303441  \n",
       "min       -1.000000      0.000000  \n",
       "25%       -1.000000      0.000000  \n",
       "50%       -1.000000      0.000000  \n",
       "75%       -1.000000      0.000000  \n",
       "max      871.000000    275.000000  "
      ]
     },
     "execution_count": 238,
     "metadata": {},
     "output_type": "execute_result"
    }
   ],
   "source": [
    "# Statistical summary for numeric features\n",
    "df.describe()"
   ]
  },
  {
   "cell_type": "code",
   "execution_count": 239,
   "id": "608c797f-ded5-42c6-b8b3-41b4a262e941",
   "metadata": {},
   "outputs": [
    {
     "data": {
      "text/plain": [
       "y\n",
       "no     39922\n",
       "yes     5289\n",
       "Name: count, dtype: int64"
      ]
     },
     "execution_count": 239,
     "metadata": {},
     "output_type": "execute_result"
    }
   ],
   "source": [
    "target_counts = df['y'].value_counts()\n",
    "target_counts"
   ]
  },
  {
   "cell_type": "code",
   "execution_count": 240,
   "id": "d359e303-dfbe-4f91-8694-402b4012c9b7",
   "metadata": {},
   "outputs": [
    {
     "data": {
      "text/plain": [
       "<Axes: xlabel='y', ylabel='count'>"
      ]
     },
     "execution_count": 240,
     "metadata": {},
     "output_type": "execute_result"
    },
    {
     "data": {
      "image/png": "[encoded data removed]",
      "text/plain": [
       "<Figure size 640x480 with 1 Axes>"
      ]
     },
     "metadata": {},
     "output_type": "display_data"
    }
   ],
   "source": [
    "#visualize Relationships\n",
    "import numpy as np\n",
    "import matplotlib.pyplot as plt\n",
    "import seaborn as sns\n",
    "sns.countplot(x=df[\"y\"])\n"
   ]
  },
  {
   "cell_type": "markdown",
   "id": "8a8c716b-b3db-4feb-9bd8-935af0e32436",
   "metadata": {},
   "source": [
    "Insight on Target Variable Distribution (Chart) This bar chart shows a significant class imbalance in target variable y: Majority Class (no): ~40,000 instances Minority Class (yes): ~5,000 instances"
   ]
  },
  {
   "cell_type": "markdown",
   "id": "6530b3fd-becf-443e-9ac5-0dce56ad824a",
   "metadata": {},
   "source": [
    "5. **Data Preprocessing - Data Cleaning:**\n"
   ]
  },
  {
   "cell_type": "code",
   "execution_count": 243,
   "id": "d6046722-f16e-49bf-803e-92be1df0f9a8",
   "metadata": {},
   "outputs": [
    {
     "name": "stdout",
     "output_type": "stream",
     "text": [
      "age          0\n",
      "job          0\n",
      "marital      0\n",
      "education    0\n",
      "default      0\n",
      "balance      0\n",
      "housing      0\n",
      "loan         0\n",
      "contact      0\n",
      "day          0\n",
      "month        0\n",
      "duration     0\n",
      "campaign     0\n",
      "pdays        0\n",
      "previous     0\n",
      "poutcome     0\n",
      "y            0\n",
      "dtype: int64\n"
     ]
    }
   ],
   "source": [
    "print(df.isna().sum())"
   ]
  },
  {
   "cell_type": "code",
   "execution_count": 244,
   "id": "d4db2bc4-3c8a-4248-811c-2305d83de12f",
   "metadata": {},
   "outputs": [
    {
     "name": "stdout",
     "output_type": "stream",
     "text": [
      "Total NaNs in dataset: 0\n"
     ]
    }
   ],
   "source": [
    "print(\"Total NaNs in dataset:\", df.isna().sum().sum())\n"
   ]
  },
  {
   "cell_type": "code",
   "execution_count": 331,
   "id": "5c7b6e16-86ae-4068-b6cd-1dee04c38f24",
   "metadata": {},
   "outputs": [
    {
     "name": "stdout",
     "output_type": "stream",
     "text": [
      "['age', 'balance', 'day', 'duration', 'campaign', 'pdays', 'previous', 'y']\n"
     ]
    }
   ],
   "source": [
    "# Check for Outliers\n",
    "numeric_cols = df.select_dtypes(include='number').columns.tolist()\n",
    "print(numeric_cols)"
   ]
  },
  {
   "cell_type": "code",
   "execution_count": 246,
   "id": "27d73945-d6a9-4098-be8e-561d3d6470f9",
   "metadata": {},
   "outputs": [
    {
     "data": {
      "image/png": "[encoded data removed]",
      "text/plain": [
       "<Figure size 1500x1000 with 7 Axes>"
      ]
     },
     "metadata": {},
     "output_type": "display_data"
    }
   ],
   "source": [
    "# Boxplot before removing outliers\n",
    "plt.figure(figsize=(15, 10))\n",
    "for i, col in enumerate(numeric_cols):\n",
    "    plt.subplot(3, 3, i+1)\n",
    "    sns.boxplot(x=df[col])\n",
    "    plt.title(f\"Before Outlier Removal: {col}\")\n",
    "plt.tight_layout()\n",
    "plt.show()"
   ]
  },
  {
   "cell_type": "markdown",
   "id": "ab1be523-b8eb-4c45-b62e-60db089c9e55",
   "metadata": {},
   "source": [
    "Insight: These plots help visually detect outliers in each numeric column. showing all the coloumns have significant outliers except Day coloumn."
   ]
  },
  {
   "cell_type": "code",
   "execution_count": 333,
   "id": "6aa17791-d67f-47f9-9290-b0a84efb9641",
   "metadata": {},
   "outputs": [
    {
     "name": "stdout",
     "output_type": "stream",
     "text": [
      "age - Q1: -0.8260665286237077, Q3: 0.8241300687430884, IQR: 1.650196597366796\n",
      "balance - Q1: -0.5670437252790074, Q3: 0.392408823888457, IQR: 0.9594525491674644\n",
      "day - Q1: -0.8939342726683435, Q3: 0.7707520608286651, IQR: 1.6646863334970086\n",
      "duration - Q1: -0.696257443492769, Q3: 0.6865034614392768, IQR: 1.3827609049320457\n",
      "campaign - Q1: -1.127567073364092, Q3: 0.9117693279922657, IQR: 2.0393364013563575\n",
      "pdays - Q1: 0.0, Q3: 0.0, IQR: 0.0\n",
      "previous - Q1: 0.0, Q3: 0.0, IQR: 0.0\n",
      "y - Q1: 0.0, Q3: 0.0, IQR: 0.0\n"
     ]
    }
   ],
   "source": [
    "#Outlier Detection And Removal : using IQR (Interquartile Range) to detect and remove outliers in numerical columns like age, balance, campaign.\n",
    "# Function to remove outliers using IQR\n",
    "def remove_outliers(df, col):\n",
    "    Q1 = df[col].quantile(0.25)\n",
    "    Q3 = df[col].quantile(0.75)\n",
    "    IQR = Q3 - Q1\n",
    "    print(f\"{col} - Q1: {Q1}, Q3: {Q3}, IQR: {IQR}\")\n",
    "    lower = Q1 - 1.5 * IQR\n",
    "    upper = Q3 + 1.5 * IQR\n",
    "    return df[(df[col] >= lower) & (df[col] <= upper)]\n",
    "    # Remove outliers from selected columns\n",
    "for col in numeric_cols:\n",
    "    df = remove_outliers(df, col)"
   ]
  },
  {
   "cell_type": "code",
   "execution_count": 249,
   "id": "cf841ee0-3cbb-4818-bbc5-acac76bb025d",
   "metadata": {},
   "outputs": [
    {
     "data": {
      "image/png": "[encoded data removed]",
      "text/plain": [
       "<Figure size 1500x1000 with 7 Axes>"
      ]
     },
     "metadata": {},
     "output_type": "display_data"
    }
   ],
   "source": [
    "# Boxplot after removing outliers\n",
    "plt.figure(figsize=(15, 10))\n",
    "for i, col in enumerate(numeric_cols):\n",
    "    plt.subplot(3, 3, i+1)\n",
    "    sns.boxplot(x=df[col])\n",
    "    plt.title(f\"After Outlier Removal: {col}\")\n",
    "plt.tight_layout()\n",
    "plt.show()"
   ]
  },
  {
   "cell_type": "markdown",
   "id": "d8fe38ab-c7ee-492d-bf92-d40995b09f77",
   "metadata": {},
   "source": [
    "Insight: After removing outliers, most columns show compact, cleaner distributions. most of the outliers in the duration column has cleared . "
   ]
  },
  {
   "cell_type": "code",
   "execution_count": 251,
   "id": "3a6e53d8-36a4-475b-9b5e-932be5007d55",
   "metadata": {},
   "outputs": [
    {
     "name": "stdout",
     "output_type": "stream",
     "text": [
      "\n",
      "Data  After Outlier Removal:\n",
      "   age           job  marital  education default  balance housing loan  \\\n",
      "0   58    management  married   tertiary      no     2143     yes   no   \n",
      "1   44    technician   single  secondary      no       29     yes   no   \n",
      "2   33  entrepreneur  married  secondary      no        2     yes  yes   \n",
      "3   47   blue-collar  married    unknown      no     1506     yes   no   \n",
      "4   33       unknown   single    unknown      no        1      no   no   \n",
      "\n",
      "   contact  day month  duration  campaign  pdays  previous poutcome   y  \n",
      "0  unknown    5   may       261         1     -1         0  unknown  no  \n",
      "1  unknown    5   may       151         1     -1         0  unknown  no  \n",
      "2  unknown    5   may        76         1     -1         0  unknown  no  \n",
      "3  unknown    5   may        92         1     -1         0  unknown  no  \n",
      "4  unknown    5   may       198         1     -1         0  unknown  no  \n"
     ]
    }
   ],
   "source": [
    "print(\"\\nData  After Outlier Removal:\")\n",
    "print(df.head())"
   ]
  },
  {
   "cell_type": "code",
   "execution_count": 335,
   "id": "cb2b0f55-4bd8-46f8-b70a-70e19402193b",
   "metadata": {},
   "outputs": [
    {
     "name": "stdout",
     "output_type": "stream",
     "text": [
      "Skewness Before Handling:\n",
      "age: 0.0022\n",
      "balance: 0.5600\n",
      "day: -0.1423\n",
      "duration: 0.0171\n",
      "campaign: 0.0577\n",
      "pdays: 0.0000\n",
      "previous: 0.0000\n",
      "y: 0.0000\n"
     ]
    }
   ],
   "source": [
    "# Check Skewness Before \n",
    "print(\"Skewness Before Handling:\")\n",
    "for col in numeric_cols:\n",
    "    print(f\"{col}: {df[col].skew():.4f}\")"
   ]
  },
  {
   "cell_type": "code",
   "execution_count": 345,
   "id": "76d1a23d-5403-4ff8-8f78-0ebde24257fa",
   "metadata": {},
   "outputs": [
    {
     "name": "stdout",
     "output_type": "stream",
     "text": [
      "New shape after Z-score filtering: (0, 17)\n"
     ]
    }
   ],
   "source": [
    "# Compute Z-scores\n",
    "z_scores = np.abs(zscore(df[numeric_cols]))\n",
    "print(\"New shape after Z-score filtering:\", df_zscore.shape)"
   ]
  },
  {
   "cell_type": "code",
   "execution_count": 343,
   "id": "fe815166-a7d8-43cf-8580-ffbf0ce2251a",
   "metadata": {},
   "outputs": [
    {
     "name": "stdout",
     "output_type": "stream",
     "text": [
      "\n",
      "Skewness After Handling:\n",
      "age: 0.0022\n",
      "balance: 0.5600\n",
      "day: -0.1423\n",
      "duration: 0.0171\n",
      "campaign: 0.0577\n",
      "pdays: 0.0000\n",
      "previous: 0.0000\n",
      "y: 0.0000\n"
     ]
    }
   ],
   "source": [
    "# Check Skewness After Handling\n",
    "print(\"\\nSkewness After Handling:\")\n",
    "for col in numeric_cols:\n",
    "    print(f\"{col}: {pd.Series(df[col]).skew():.4f}\")"
   ]
  },
  {
   "cell_type": "code",
   "execution_count": 256,
   "id": "1403c35e-c0cf-41f8-80f8-9a8dacd3c81c",
   "metadata": {},
   "outputs": [
    {
     "name": "stdout",
     "output_type": "stream",
     "text": [
      "Has Inf: False\n",
      "Inf counts:\n",
      " age         0\n",
      "balance     0\n",
      "day         0\n",
      "duration    0\n",
      "campaign    0\n",
      "pdays       0\n",
      "previous    0\n",
      "dtype: int64\n"
     ]
    }
   ],
   "source": [
    "# Select only numeric columns\n",
    "numeric_df = df.select_dtypes(include=[np.number])\n",
    "\n",
    "# Check for infinities in numeric data only\n",
    "print(\"Has Inf:\", np.isinf(numeric_df).values.any())\n",
    "print(\"Inf counts:\\n\", np.isinf(numeric_df).sum())"
   ]
  },
  {
   "cell_type": "code",
   "execution_count": 257,
   "id": "f9c0d5e1-7984-4a11-b426-07b65601b97f",
   "metadata": {},
   "outputs": [],
   "source": [
    "# Replace inf/-inf with NaN across entire DataFrame\n",
    "df.replace([np.inf, -np.inf], np.nan, inplace=True)\n",
    "# Then handle missing values as needed\n",
    "df.dropna(inplace=True)  # or use fillna()"
   ]
  },
  {
   "cell_type": "code",
   "execution_count": 347,
   "id": "2ceb6016-c3b2-41fd-a102-08fbdcfd5706",
   "metadata": {},
   "outputs": [
    {
     "name": "stdout",
     "output_type": "stream",
     "text": [
      "Skewness of balance: -0.1103\n",
      "Skewness of duration: -0.0229\n",
      "Skewness of campaign: 0.0528\n"
     ]
    }
   ],
   "source": [
    "from sklearn.preprocessing import PowerTransformer\n",
    "\n",
    "pt = PowerTransformer(method='yeo-johnson')\n",
    "df[['balance', 'duration', 'campaign']] = pt.fit_transform(df[['balance', 'duration', 'campaign']])\n",
    "for col in ['balance', 'duration', 'campaign']:\n",
    "    skewness = df[col].skew()\n",
    "    print(f\"Skewness of {col}: {skewness:.4f}\")"
   ]
  },
  {
   "cell_type": "markdown",
   "id": "b6456217-62b4-468f-bbc3-5659ef289803",
   "metadata": {},
   "source": [
    "Insight : Now its almost symmetric "
   ]
  },
  {
   "cell_type": "markdown",
   "id": "52696a89-02f2-4f90-901f-6f79301375eb",
   "metadata": {},
   "source": [
    "6. **Exploratory Data Analysis (EDA):**"
   ]
  },
  {
   "cell_type": "code",
   "execution_count": 261,
   "id": "da1182d1-616e-4fd4-b527-1137b52e560d",
   "metadata": {},
   "outputs": [
    {
     "data": {
      "image/png": "[encoded data removed]",
      "text/plain": [
       "<Figure size 800x500 with 1 Axes>"
      ]
     },
     "metadata": {},
     "output_type": "display_data"
    }
   ],
   "source": [
    "#1. Histogram – Data Distribution\n",
    "# Age distribution\n",
    "plt.figure(figsize=(8,5))\n",
    "sns.histplot(df['age'], kde=True, bins=30)\n",
    "plt.title('Age Distribution')\n",
    "plt.xlabel('Age')\n",
    "plt.show()"
   ]
  },
  {
   "cell_type": "markdown",
   "id": "1230b65d-41ba-4f0e-a214-38ba3d9a07d0",
   "metadata": {},
   "source": [
    "This is a histogram with KDE showing the distribution of ages among the clients. Insight: Most clients are aged between 30 and 40 years. The distribution is slightly right-skewed, meaning a larger number of clients are younger, with fewer older clients. The distribution is continuous and smooth, which is good for numerical modeling."
   ]
  },
  {
   "cell_type": "code",
   "execution_count": 351,
   "id": "aa58a0ac-aeb7-435c-bf2f-963ca5379171",
   "metadata": {},
   "outputs": [
    {
     "data": {
      "image/png": "[encoded data removed]",
      "text/plain": [
       "<Figure size 800x500 with 1 Axes>"
      ]
     },
     "metadata": {},
     "output_type": "display_data"
    }
   ],
   "source": [
    "#2. Boxplot – Detecting Outliers\n",
    "# Boxplot of balance\n",
    "plt.figure(figsize=(8,5))\n",
    "sns.boxplot(x=df['day'])\n",
    "plt.title('Boxplot of Balance')\n",
    "plt.show()"
   ]
  },
  {
   "cell_type": "markdown",
   "id": "68ea0da1-5a42-4352-b878-0e1ba4dadf68",
   "metadata": {},
   "source": [
    "Insight: Boxplot of Day (After Transformation & Outlier Removal)\n",
    "This boxplot shows the distribution of the day feature after:\n",
    "Outlier removal using IQR method\n",
    "Skewness handling via Yeo-Johnson transformation\n",
    "Observations:\n",
    " The box is compact and symmetric, indicating the distribution is now normalized.\n",
    " There are no visible outliers (no points outside the whiskers), confirming effective outlier removal.\n",
    " The median (central line) is almost centered, suggesting reduced skewness."
   ]
  },
  {
   "cell_type": "code",
   "execution_count": 265,
   "id": "f30d1a88-5af4-4e57-a2a8-2b634c8648f0",
   "metadata": {},
   "outputs": [
    {
     "data": {
      "image/png": "[encoded data removed]",
      "text/plain": [
       "<Figure size 1000x600 with 2 Axes>"
      ]
     },
     "metadata": {},
     "output_type": "display_data"
    }
   ],
   "source": [
    "# 3. Heat map\n",
    "# Select numeric columns\n",
    "df_numeric = df.copy()\n",
    "numeric_df = df_numeric.select_dtypes(include=[np.number])\n",
    "plt.figure(figsize=(10, 6))\n",
    "sns.heatmap(df.corr(numeric_only=True), annot=True, cmap='coolwarm', fmt=\".2f\")\n",
    "plt.title(\"Correlation Heatmap\")\n",
    "plt.show()"
   ]
  },
  {
   "cell_type": "markdown",
   "id": "ebbfa562-3dbe-49bf-9d1d-b9bc13a2c4fd",
   "metadata": {},
   "source": [
    "Insight Very low correlation values between most features (all values are close to 0)\n",
    " No strong positive or negative correlations - No variable pair exceeds ±0.12, meaning multicollinearity is not a concern."
   ]
  },
  {
   "cell_type": "code",
   "execution_count": 267,
   "id": "866a8ecf-b089-47b6-8483-4478e4a7d264",
   "metadata": {},
   "outputs": [
    {
     "name": "stderr",
     "output_type": "stream",
     "text": [
      "C:\\Users\\aparn\\AppData\\Local\\Temp\\ipykernel_17372\\829094676.py:2: FutureWarning: \n",
      "\n",
      "Passing `palette` without assigning `hue` is deprecated and will be removed in v0.14.0. Assign the `x` variable to `hue` and set `legend=False` for the same effect.\n",
      "\n",
      "  sns.countplot(x='y', data=df, palette='pastel')\n"
     ]
    },
    {
     "data": {
      "image/png": "[encoded data removed]",
      "text/plain": [
       "<Figure size 640x480 with 1 Axes>"
      ]
     },
     "metadata": {},
     "output_type": "display_data"
    }
   ],
   "source": [
    "#4.Count Plot\n",
    "sns.countplot(x='y', data=df, palette='pastel')\n",
    "plt.title(\"Target Variable Count (Subscription)\")\n",
    "plt.xlabel(\"Subscription (0=No, 1=Yes)\")\n",
    "plt.ylabel(\"Count\")\n",
    "plt.show()"
   ]
  },
  {
   "cell_type": "markdown",
   "id": "9d7bbab3-6bae-4c3f-bdcb-4b6c4358cd36",
   "metadata": {},
   "source": [
    "Insight - Useful to detect class imbalance.Here one class dominates, consider SMOTE for sampling.\n",
    "\n"
   ]
  },
  {
   "cell_type": "code",
   "execution_count": 269,
   "id": "dbcf1f9d-6073-4aa1-a796-087621fd3538",
   "metadata": {},
   "outputs": [
    {
     "data": {
      "image/png": "[encoded data removed]",
      "text/plain": [
       "<Figure size 600x600 with 1 Axes>"
      ]
     },
     "metadata": {},
     "output_type": "display_data"
    }
   ],
   "source": [
    "#5. Pie Chart – Target Class Distribution\n",
    "# Pie chart for target variable\n",
    "labels = df['y'].value_counts().index\n",
    "sizes = df['y'].value_counts().values\n",
    "\n",
    "plt.figure(figsize=(6,6))\n",
    "plt.pie(sizes, labels=labels, autopct='%1.1f%%', startangle=90, colors=['skyblue', 'lightgreen'])\n",
    "plt.title('Term Deposit Subscription Distribution')\n",
    "plt.axis('equal')\n",
    "plt.show()"
   ]
  },
  {
   "cell_type": "markdown",
   "id": "f82882c2-0a90-4e23-b682-72faea57601f",
   "metadata": {},
   "source": [
    "Insight: Term Deposit Subscription Distribution (Pie Chart)\n",
    "This pie chart visualizes the class distribution of the target variable y, which indicates whether a customer subscribed to a term deposit.\n",
    "Observation:\n",
    " \"No\" (did not subscribe): 94.4%\n",
    " \"Yes\" (subscribed): 5.6%"
   ]
  },
  {
   "cell_type": "markdown",
   "id": "a7e4b041-b765-4167-b553-bbf57e77a3b7",
   "metadata": {},
   "source": [
    "7. **Feature Engineering:**"
   ]
  },
  {
   "cell_type": "code",
   "execution_count": 272,
   "id": "054b1658-4336-4067-bf6f-86841b41c48e",
   "metadata": {},
   "outputs": [
    {
     "name": "stdout",
     "output_type": "stream",
     "text": [
      "Class Imbalance Ratio: 16.94\n"
     ]
    }
   ],
   "source": [
    "# Calculate Class Imbalance Ratio\n",
    "maj_cls = df['y'].value_counts().max()\n",
    "min_cls = df['y'].value_counts().min()\n",
    "ratio = maj_cls / min_cls\n",
    "\n",
    "print(f\"Class Imbalance Ratio: {ratio:.2f}\")"
   ]
  },
  {
   "cell_type": "code",
   "execution_count": 273,
   "id": "ef813b47-1bb8-4a68-bf8f-c56a6fde572b",
   "metadata": {},
   "outputs": [
    {
     "name": "stdout",
     "output_type": "stream",
     "text": [
      "Categorical Columns: ['job', 'marital', 'education', 'default', 'housing', 'loan', 'contact', 'month', 'poutcome']\n"
     ]
    }
   ],
   "source": [
    "#Identify Categorical Features\n",
    "# List categorical columns (excluding target 'y' only if it's present)\n",
    "categorical_cols = df.select_dtypes(include='object').columns.tolist()\n",
    "\n",
    "# Remove 'y' only if it exists\n",
    "if 'y' in categorical_cols:\n",
    "    categorical_cols.remove('y')\n",
    "\n",
    "print(\"Categorical Columns:\", categorical_cols)"
   ]
  },
  {
   "cell_type": "code",
   "execution_count": 274,
   "id": "e424e9ad-f369-45c2-bf7e-4e8427269334",
   "metadata": {},
   "outputs": [],
   "source": [
    "#Encoding Target Variable\n",
    "from sklearn.preprocessing import LabelEncoder\n",
    "\n",
    "label_encoder = LabelEncoder()\n",
    "df['y'] = label_encoder.fit_transform(df['y']) # Encode target column (yes/no → 1/0)\n"
   ]
  },
  {
   "cell_type": "code",
   "execution_count": 275,
   "id": "739dcabf-c94b-4158-884a-2fa96f1f8b72",
   "metadata": {},
   "outputs": [
    {
     "name": "stdout",
     "output_type": "stream",
     "text": [
      "Shape after encoding: (28069, 40)\n"
     ]
    },
    {
     "data": {
      "text/html": [
       "<div>\n",
       "<style scoped>\n",
       "    .dataframe tbody tr th:only-of-type {\n",
       "        vertical-align: middle;\n",
       "    }\n",
       "\n",
       "    .dataframe tbody tr th {\n",
       "        vertical-align: top;\n",
       "    }\n",
       "\n",
       "    .dataframe thead th {\n",
       "        text-align: right;\n",
       "    }\n",
       "</style>\n",
       "<table border=\"1\" class=\"dataframe\">\n",
       "  <thead>\n",
       "    <tr style=\"text-align: right;\">\n",
       "      <th></th>\n",
       "      <th>age</th>\n",
       "      <th>balance</th>\n",
       "      <th>day</th>\n",
       "      <th>duration</th>\n",
       "      <th>campaign</th>\n",
       "      <th>pdays</th>\n",
       "      <th>previous</th>\n",
       "      <th>y</th>\n",
       "      <th>job_blue-collar</th>\n",
       "      <th>job_entrepreneur</th>\n",
       "      <th>...</th>\n",
       "      <th>month_dec</th>\n",
       "      <th>month_feb</th>\n",
       "      <th>month_jan</th>\n",
       "      <th>month_jul</th>\n",
       "      <th>month_jun</th>\n",
       "      <th>month_mar</th>\n",
       "      <th>month_may</th>\n",
       "      <th>month_nov</th>\n",
       "      <th>month_oct</th>\n",
       "      <th>month_sep</th>\n",
       "    </tr>\n",
       "  </thead>\n",
       "  <tbody>\n",
       "    <tr>\n",
       "      <th>0</th>\n",
       "      <td>58</td>\n",
       "      <td>1.722627</td>\n",
       "      <td>5</td>\n",
       "      <td>0.602092</td>\n",
       "      <td>-1.111407</td>\n",
       "      <td>-1</td>\n",
       "      <td>0</td>\n",
       "      <td>0</td>\n",
       "      <td>False</td>\n",
       "      <td>False</td>\n",
       "      <td>...</td>\n",
       "      <td>False</td>\n",
       "      <td>False</td>\n",
       "      <td>False</td>\n",
       "      <td>False</td>\n",
       "      <td>False</td>\n",
       "      <td>False</td>\n",
       "      <td>True</td>\n",
       "      <td>False</td>\n",
       "      <td>False</td>\n",
       "      <td>False</td>\n",
       "    </tr>\n",
       "    <tr>\n",
       "      <th>1</th>\n",
       "      <td>44</td>\n",
       "      <td>-0.603013</td>\n",
       "      <td>5</td>\n",
       "      <td>-0.189052</td>\n",
       "      <td>-1.111407</td>\n",
       "      <td>-1</td>\n",
       "      <td>0</td>\n",
       "      <td>0</td>\n",
       "      <td>False</td>\n",
       "      <td>False</td>\n",
       "      <td>...</td>\n",
       "      <td>False</td>\n",
       "      <td>False</td>\n",
       "      <td>False</td>\n",
       "      <td>False</td>\n",
       "      <td>False</td>\n",
       "      <td>False</td>\n",
       "      <td>True</td>\n",
       "      <td>False</td>\n",
       "      <td>False</td>\n",
       "      <td>False</td>\n",
       "    </tr>\n",
       "    <tr>\n",
       "      <th>2</th>\n",
       "      <td>33</td>\n",
       "      <td>-0.643364</td>\n",
       "      <td>5</td>\n",
       "      <td>-0.999343</td>\n",
       "      <td>-1.111407</td>\n",
       "      <td>-1</td>\n",
       "      <td>0</td>\n",
       "      <td>0</td>\n",
       "      <td>False</td>\n",
       "      <td>True</td>\n",
       "      <td>...</td>\n",
       "      <td>False</td>\n",
       "      <td>False</td>\n",
       "      <td>False</td>\n",
       "      <td>False</td>\n",
       "      <td>False</td>\n",
       "      <td>False</td>\n",
       "      <td>True</td>\n",
       "      <td>False</td>\n",
       "      <td>False</td>\n",
       "      <td>False</td>\n",
       "    </tr>\n",
       "    <tr>\n",
       "      <th>3</th>\n",
       "      <td>47</td>\n",
       "      <td>1.063007</td>\n",
       "      <td>5</td>\n",
       "      <td>-0.792069</td>\n",
       "      <td>-1.111407</td>\n",
       "      <td>-1</td>\n",
       "      <td>0</td>\n",
       "      <td>0</td>\n",
       "      <td>True</td>\n",
       "      <td>False</td>\n",
       "      <td>...</td>\n",
       "      <td>False</td>\n",
       "      <td>False</td>\n",
       "      <td>False</td>\n",
       "      <td>False</td>\n",
       "      <td>False</td>\n",
       "      <td>False</td>\n",
       "      <td>True</td>\n",
       "      <td>False</td>\n",
       "      <td>False</td>\n",
       "      <td>False</td>\n",
       "    </tr>\n",
       "    <tr>\n",
       "      <th>4</th>\n",
       "      <td>33</td>\n",
       "      <td>-0.645067</td>\n",
       "      <td>5</td>\n",
       "      <td>0.184940</td>\n",
       "      <td>-1.111407</td>\n",
       "      <td>-1</td>\n",
       "      <td>0</td>\n",
       "      <td>0</td>\n",
       "      <td>False</td>\n",
       "      <td>False</td>\n",
       "      <td>...</td>\n",
       "      <td>False</td>\n",
       "      <td>False</td>\n",
       "      <td>False</td>\n",
       "      <td>False</td>\n",
       "      <td>False</td>\n",
       "      <td>False</td>\n",
       "      <td>True</td>\n",
       "      <td>False</td>\n",
       "      <td>False</td>\n",
       "      <td>False</td>\n",
       "    </tr>\n",
       "  </tbody>\n",
       "</table>\n",
       "<p>5 rows × 40 columns</p>\n",
       "</div>"
      ],
      "text/plain": [
       "   age   balance  day  duration  campaign  pdays  previous  y  \\\n",
       "0   58  1.722627    5  0.602092 -1.111407     -1         0  0   \n",
       "1   44 -0.603013    5 -0.189052 -1.111407     -1         0  0   \n",
       "2   33 -0.643364    5 -0.999343 -1.111407     -1         0  0   \n",
       "3   47  1.063007    5 -0.792069 -1.111407     -1         0  0   \n",
       "4   33 -0.645067    5  0.184940 -1.111407     -1         0  0   \n",
       "\n",
       "   job_blue-collar  job_entrepreneur  ...  month_dec  month_feb  month_jan  \\\n",
       "0            False             False  ...      False      False      False   \n",
       "1            False             False  ...      False      False      False   \n",
       "2            False              True  ...      False      False      False   \n",
       "3             True             False  ...      False      False      False   \n",
       "4            False             False  ...      False      False      False   \n",
       "\n",
       "   month_jul  month_jun  month_mar  month_may  month_nov  month_oct  month_sep  \n",
       "0      False      False      False       True      False      False      False  \n",
       "1      False      False      False       True      False      False      False  \n",
       "2      False      False      False       True      False      False      False  \n",
       "3      False      False      False       True      False      False      False  \n",
       "4      False      False      False       True      False      False      False  \n",
       "\n",
       "[5 rows x 40 columns]"
      ]
     },
     "execution_count": 275,
     "metadata": {},
     "output_type": "execute_result"
    }
   ],
   "source": [
    "# One-hot encode selected categorical features\n",
    "categorical_features = ['job', 'marital', 'education', 'default', 'housing',\n",
    "                        'loan', 'contact', 'month', 'poutcome']\n",
    "\n",
    "df = pd.get_dummies(df, columns=categorical_features, drop_first=True)\n",
    "\n",
    "print(\"Shape after encoding:\", df.shape)\n",
    "df.head()"
   ]
  },
  {
   "cell_type": "code",
   "execution_count": 276,
   "id": "2487c685-76b6-48ee-bce9-0b0636319cf9",
   "metadata": {},
   "outputs": [
    {
     "data": {
      "text/plain": [
       "y\n",
       "0    26504\n",
       "1     1565\n",
       "Name: count, dtype: int64"
      ]
     },
     "execution_count": 276,
     "metadata": {},
     "output_type": "execute_result"
    }
   ],
   "source": [
    "# Count values\n",
    "target_counts = df['y'].value_counts()\n",
    "target_counts"
   ]
  },
  {
   "cell_type": "code",
   "execution_count": 277,
   "id": "801f4aad-3dee-46ff-b6c2-1e5bf6bab0e8",
   "metadata": {},
   "outputs": [],
   "source": [
    "#Applying SMOTE for class imbalance\n",
    "from imblearn.over_sampling import SMOTE\n",
    "from collections import Counter"
   ]
  },
  {
   "cell_type": "code",
   "execution_count": 278,
   "id": "795130fe-2311-433b-8fc9-c631815b7f45",
   "metadata": {},
   "outputs": [
    {
     "name": "stdout",
     "output_type": "stream",
     "text": [
      "Before SMOTE: Counter({0: 26504, 1: 1565})\n",
      "After SMOTE: Counter({0: 26504, 1: 26504})\n"
     ]
    }
   ],
   "source": [
    "# Check class distribution\n",
    "print(\"Before SMOTE:\", Counter(df['y']))\n",
    "\n",
    "# Splitting features and target\n",
    "X = df.drop(columns=['y'])\n",
    "y = df['y']\n",
    "\n",
    "# Apply SMOTE\n",
    "smote = SMOTE(sampling_strategy='auto')\n",
    "\n",
    "#xscaled,y\n",
    "X_resampled, y_resampled = smote.fit_resample(X, y)\n",
    "\n",
    "# Check new class distribution\n",
    "print(\"After SMOTE:\", Counter(y_resampled))\n",
    "     "
   ]
  },
  {
   "cell_type": "code",
   "execution_count": 279,
   "id": "df0edaf0-3e28-4b8b-a0ce-d980d24928d7",
   "metadata": {},
   "outputs": [
    {
     "data": {
      "text/plain": [
       "<Axes: xlabel='y', ylabel='count'>"
      ]
     },
     "execution_count": 279,
     "metadata": {},
     "output_type": "execute_result"
    },
    {
     "data": {
      "image/png": "[encoded data removed]",
      "text/plain": [
       "<Figure size 640x480 with 1 Axes>"
      ]
     },
     "metadata": {},
     "output_type": "display_data"
    }
   ],
   "source": [
    "import seaborn as sns\n",
    "sns.countplot(x=y_resampled)"
   ]
  },
  {
   "cell_type": "markdown",
   "id": "9111faee-a99c-49d0-b3b9-80ad65de8d7a",
   "metadata": {},
   "source": [
    "After applying SMOTE the target class outcomes have balanced."
   ]
  },
  {
   "cell_type": "markdown",
   "id": "95a50dd5-f5ff-49e2-9f30-3fcf7a16edcc",
   "metadata": {},
   "source": [
    "8. **Feature Selection:**\n"
   ]
  },
  {
   "cell_type": "code",
   "execution_count": 282,
   "id": "d6421512-0683-45f7-8fe7-477b2c06fda9",
   "metadata": {},
   "outputs": [
    {
     "name": "stdout",
     "output_type": "stream",
     "text": [
      "age                    0\n",
      "balance                0\n",
      "day                    0\n",
      "duration               0\n",
      "campaign               0\n",
      "pdays                  0\n",
      "previous               0\n",
      "job_blue-collar        0\n",
      "job_entrepreneur       0\n",
      "job_housemaid          0\n",
      "job_management         0\n",
      "job_retired            0\n",
      "job_self-employed      0\n",
      "job_services           0\n",
      "job_student            0\n",
      "job_technician         0\n",
      "job_unemployed         0\n",
      "job_unknown            0\n",
      "marital_married        0\n",
      "marital_single         0\n",
      "education_secondary    0\n",
      "education_tertiary     0\n",
      "education_unknown      0\n",
      "default_yes            0\n",
      "housing_yes            0\n",
      "loan_yes               0\n",
      "contact_telephone      0\n",
      "contact_unknown        0\n",
      "month_aug              0\n",
      "month_dec              0\n",
      "month_feb              0\n",
      "month_jan              0\n",
      "month_jul              0\n",
      "month_jun              0\n",
      "month_mar              0\n",
      "month_may              0\n",
      "month_nov              0\n",
      "month_oct              0\n",
      "month_sep              0\n",
      "dtype: int64\n"
     ]
    }
   ],
   "source": [
    "import numpy as np\n",
    "\n",
    "# Check for inf values\n",
    "print(np.isinf(X).sum())"
   ]
  },
  {
   "cell_type": "code",
   "execution_count": 283,
   "id": "cd70e399-d634-425d-9be1-ff6ff53bb93e",
   "metadata": {},
   "outputs": [],
   "source": [
    "from sklearn.preprocessing import PowerTransformer\n",
    "\n",
    "power = PowerTransformer(method='yeo-johnson')\n",
    "df[numeric_cols] = power.fit_transform(df[numeric_cols])"
   ]
  },
  {
   "cell_type": "code",
   "execution_count": 284,
   "id": "dcba2a4d-a962-469a-af6f-dc0950de7783",
   "metadata": {},
   "outputs": [
    {
     "name": "stdout",
     "output_type": "stream",
     "text": [
      "Top 10 selected features: ['age', 'balance', 'duration', 'campaign', 'marital_married', 'education_secondary', 'housing_yes', 'contact_unknown', 'month_mar', 'month_may']\n"
     ]
    }
   ],
   "source": [
    "from sklearn.feature_selection import SelectKBest, mutual_info_classif\n",
    "\n",
    "selector = SelectKBest(score_func=mutual_info_classif, k=10)\n",
    "X_new = selector.fit_transform(X, y)\n",
    "\n",
    "selected_features = X.columns[selector.get_support()]\n",
    "print(\"Top 10 selected features:\", selected_features.tolist())\n"
   ]
  },
  {
   "cell_type": "markdown",
   "id": "c518cf5d-0949-427f-b29a-cd2ee1cbb147",
   "metadata": {},
   "source": [
    "\n",
    "9. **Split Data into Training and Testing Sets:**"
   ]
  },
  {
   "cell_type": "code",
   "execution_count": 286,
   "id": "51dbb5fc-22fa-479e-8c24-8ec113380f93",
   "metadata": {},
   "outputs": [
    {
     "name": "stdout",
     "output_type": "stream",
     "text": [
      "X shape: (28069, 10)\n",
      "y shape: (28069,)\n"
     ]
    }
   ],
   "source": [
    "# Ensure X and y are from same cleaned DataFrame\n",
    "X =df.drop('y', axis=1)\n",
    "y = df['y']\n",
    "\n",
    "# selecting specific columns (e.g., top 10 features):\n",
    "X = X[selected_features] \n",
    "print(\"X shape:\", X.shape)\n",
    "print(\"y shape:\", y.shape)"
   ]
  },
  {
   "cell_type": "code",
   "execution_count": 287,
   "id": "b8c4f30e-4c27-424b-9629-1a633129ecb6",
   "metadata": {},
   "outputs": [
    {
     "data": {
      "text/html": [
       "<div>\n",
       "<style scoped>\n",
       "    .dataframe tbody tr th:only-of-type {\n",
       "        vertical-align: middle;\n",
       "    }\n",
       "\n",
       "    .dataframe tbody tr th {\n",
       "        vertical-align: top;\n",
       "    }\n",
       "\n",
       "    .dataframe thead th {\n",
       "        text-align: right;\n",
       "    }\n",
       "</style>\n",
       "<table border=\"1\" class=\"dataframe\">\n",
       "  <thead>\n",
       "    <tr style=\"text-align: right;\">\n",
       "      <th></th>\n",
       "      <th>age</th>\n",
       "      <th>balance</th>\n",
       "      <th>day</th>\n",
       "      <th>duration</th>\n",
       "      <th>campaign</th>\n",
       "      <th>pdays</th>\n",
       "      <th>previous</th>\n",
       "      <th>y</th>\n",
       "      <th>job_blue-collar</th>\n",
       "      <th>job_entrepreneur</th>\n",
       "      <th>...</th>\n",
       "      <th>month_dec</th>\n",
       "      <th>month_feb</th>\n",
       "      <th>month_jan</th>\n",
       "      <th>month_jul</th>\n",
       "      <th>month_jun</th>\n",
       "      <th>month_mar</th>\n",
       "      <th>month_may</th>\n",
       "      <th>month_nov</th>\n",
       "      <th>month_oct</th>\n",
       "      <th>month_sep</th>\n",
       "    </tr>\n",
       "  </thead>\n",
       "  <tbody>\n",
       "    <tr>\n",
       "      <th>0</th>\n",
       "      <td>1.612408</td>\n",
       "      <td>1.623362</td>\n",
       "      <td>-1.348756</td>\n",
       "      <td>0.603566</td>\n",
       "      <td>-1.127567</td>\n",
       "      <td>0.0</td>\n",
       "      <td>0.0</td>\n",
       "      <td>0</td>\n",
       "      <td>False</td>\n",
       "      <td>False</td>\n",
       "      <td>...</td>\n",
       "      <td>False</td>\n",
       "      <td>False</td>\n",
       "      <td>False</td>\n",
       "      <td>False</td>\n",
       "      <td>False</td>\n",
       "      <td>False</td>\n",
       "      <td>True</td>\n",
       "      <td>False</td>\n",
       "      <td>False</td>\n",
       "      <td>False</td>\n",
       "    </tr>\n",
       "    <tr>\n",
       "      <th>1</th>\n",
       "      <td>0.465477</td>\n",
       "      <td>-0.576314</td>\n",
       "      <td>-1.348756</td>\n",
       "      <td>-0.186566</td>\n",
       "      <td>-1.127567</td>\n",
       "      <td>0.0</td>\n",
       "      <td>0.0</td>\n",
       "      <td>0</td>\n",
       "      <td>False</td>\n",
       "      <td>False</td>\n",
       "      <td>...</td>\n",
       "      <td>False</td>\n",
       "      <td>False</td>\n",
       "      <td>False</td>\n",
       "      <td>False</td>\n",
       "      <td>False</td>\n",
       "      <td>False</td>\n",
       "      <td>True</td>\n",
       "      <td>False</td>\n",
       "      <td>False</td>\n",
       "      <td>False</td>\n",
       "    </tr>\n",
       "    <tr>\n",
       "      <th>2</th>\n",
       "      <td>-0.702751</td>\n",
       "      <td>-0.620924</td>\n",
       "      <td>-1.348756</td>\n",
       "      <td>-0.999568</td>\n",
       "      <td>-1.127567</td>\n",
       "      <td>0.0</td>\n",
       "      <td>0.0</td>\n",
       "      <td>0</td>\n",
       "      <td>False</td>\n",
       "      <td>True</td>\n",
       "      <td>...</td>\n",
       "      <td>False</td>\n",
       "      <td>False</td>\n",
       "      <td>False</td>\n",
       "      <td>False</td>\n",
       "      <td>False</td>\n",
       "      <td>False</td>\n",
       "      <td>True</td>\n",
       "      <td>False</td>\n",
       "      <td>False</td>\n",
       "      <td>False</td>\n",
       "    </tr>\n",
       "    <tr>\n",
       "      <th>3</th>\n",
       "      <td>0.737128</td>\n",
       "      <td>1.057644</td>\n",
       "      <td>-1.348756</td>\n",
       "      <td>-0.791320</td>\n",
       "      <td>-1.127567</td>\n",
       "      <td>0.0</td>\n",
       "      <td>0.0</td>\n",
       "      <td>0</td>\n",
       "      <td>True</td>\n",
       "      <td>False</td>\n",
       "      <td>...</td>\n",
       "      <td>False</td>\n",
       "      <td>False</td>\n",
       "      <td>False</td>\n",
       "      <td>False</td>\n",
       "      <td>False</td>\n",
       "      <td>False</td>\n",
       "      <td>True</td>\n",
       "      <td>False</td>\n",
       "      <td>False</td>\n",
       "      <td>False</td>\n",
       "    </tr>\n",
       "    <tr>\n",
       "      <th>4</th>\n",
       "      <td>-0.702751</td>\n",
       "      <td>-0.622812</td>\n",
       "      <td>-1.348756</td>\n",
       "      <td>0.187425</td>\n",
       "      <td>-1.127567</td>\n",
       "      <td>0.0</td>\n",
       "      <td>0.0</td>\n",
       "      <td>0</td>\n",
       "      <td>False</td>\n",
       "      <td>False</td>\n",
       "      <td>...</td>\n",
       "      <td>False</td>\n",
       "      <td>False</td>\n",
       "      <td>False</td>\n",
       "      <td>False</td>\n",
       "      <td>False</td>\n",
       "      <td>False</td>\n",
       "      <td>True</td>\n",
       "      <td>False</td>\n",
       "      <td>False</td>\n",
       "      <td>False</td>\n",
       "    </tr>\n",
       "  </tbody>\n",
       "</table>\n",
       "<p>5 rows × 40 columns</p>\n",
       "</div>"
      ],
      "text/plain": [
       "        age   balance       day  duration  campaign  pdays  previous  y  \\\n",
       "0  1.612408  1.623362 -1.348756  0.603566 -1.127567    0.0       0.0  0   \n",
       "1  0.465477 -0.576314 -1.348756 -0.186566 -1.127567    0.0       0.0  0   \n",
       "2 -0.702751 -0.620924 -1.348756 -0.999568 -1.127567    0.0       0.0  0   \n",
       "3  0.737128  1.057644 -1.348756 -0.791320 -1.127567    0.0       0.0  0   \n",
       "4 -0.702751 -0.622812 -1.348756  0.187425 -1.127567    0.0       0.0  0   \n",
       "\n",
       "   job_blue-collar  job_entrepreneur  ...  month_dec  month_feb  month_jan  \\\n",
       "0            False             False  ...      False      False      False   \n",
       "1            False             False  ...      False      False      False   \n",
       "2            False              True  ...      False      False      False   \n",
       "3             True             False  ...      False      False      False   \n",
       "4            False             False  ...      False      False      False   \n",
       "\n",
       "   month_jul  month_jun  month_mar  month_may  month_nov  month_oct  month_sep  \n",
       "0      False      False      False       True      False      False      False  \n",
       "1      False      False      False       True      False      False      False  \n",
       "2      False      False      False       True      False      False      False  \n",
       "3      False      False      False       True      False      False      False  \n",
       "4      False      False      False       True      False      False      False  \n",
       "\n",
       "[5 rows x 40 columns]"
      ]
     },
     "execution_count": 287,
     "metadata": {},
     "output_type": "execute_result"
    }
   ],
   "source": [
    "df.head()"
   ]
  },
  {
   "cell_type": "code",
   "execution_count": 288,
   "id": "e97f7e6b-e32c-4665-a831-eadd747253c3",
   "metadata": {},
   "outputs": [
    {
     "name": "stdout",
     "output_type": "stream",
     "text": [
      "Train shape: (22455, 10)\n",
      "Test shape: (5614, 10)\n"
     ]
    }
   ],
   "source": [
    "from sklearn.model_selection import train_test_split\n",
    "\n",
    "X_train, X_test, y_train, y_test = train_test_split(\n",
    "    X, y, test_size=0.2, random_state=42, stratify=y\n",
    ")\n",
    "\n",
    "print(\"Train shape:\", X_train.shape)\n",
    "print(\"Test shape:\", X_test.shape)"
   ]
  },
  {
   "cell_type": "markdown",
   "id": "df8ea3d7-94de-48f6-9526-e87b1eb2f342",
   "metadata": {},
   "source": [
    "10. **Feature Scaling:**\n"
   ]
  },
  {
   "cell_type": "code",
   "execution_count": 290,
   "id": "86430048-4f82-4f2c-848c-7062512bd59b",
   "metadata": {},
   "outputs": [],
   "source": [
    "#Standardization :\n",
    "from sklearn.preprocessing import StandardScaler\n",
    "\n",
    "# Identify numeric features to scale (intersect with selected ones)\n",
    "numeric_cols = ['age', 'balance', 'day', 'campaign', 'pdays', 'previous']\n",
    "numeric_cols = [col for col in numeric_cols if col in X_train.columns]\n",
    "\n",
    "# Initialize the scaler\n",
    "scaler = StandardScaler()\n",
    "\n",
    "# Fit on training data and transform both train and test sets\n",
    "X_train[numeric_cols] = scaler.fit_transform(X_train[numeric_cols])\n",
    "X_test[numeric_cols] = scaler.transform(X_test[numeric_cols])"
   ]
  },
  {
   "cell_type": "markdown",
   "id": "581daa54-399d-4fd6-98f3-cab342244269",
   "metadata": {},
   "source": [
    "11. **Build the ML Model:**"
   ]
  },
  {
   "cell_type": "code",
   "execution_count": 292,
   "id": "9bb15248-7f75-4af7-872e-f80ad47155d0",
   "metadata": {},
   "outputs": [
    {
     "name": "stdout",
     "output_type": "stream",
     "text": [
      "Logistic Regression Accuracy: 0.9451371571072319\n"
     ]
    }
   ],
   "source": [
    "#1. Logistic Regression\n",
    "from sklearn.linear_model import LogisticRegression\n",
    "from sklearn.metrics import accuracy_score\n",
    "\n",
    "lr = LogisticRegression(max_iter=1000)\n",
    "lr.fit(X_train, y_train)\n",
    "y_pred_lr = lr.predict(X_test)\n",
    "print(\"Logistic Regression Accuracy:\", accuracy_score(y_test, y_pred_lr))"
   ]
  },
  {
   "cell_type": "code",
   "execution_count": 293,
   "id": "20593b31-3f0d-4a57-a8e9-c82c67c2c94b",
   "metadata": {},
   "outputs": [
    {
     "name": "stdout",
     "output_type": "stream",
     "text": [
      "SVM Accuracy: 0.9462059137869612\n"
     ]
    }
   ],
   "source": [
    "#2. Support Vector Machine - SVM \n",
    "from sklearn.svm import SVC\n",
    "svm = SVC()\n",
    "svm.fit(X_train, y_train)\n",
    "y_pred_svm = svm.predict(X_test)\n",
    "print(\"SVM Accuracy:\", accuracy_score(y_test, y_pred_svm))\n"
   ]
  },
  {
   "cell_type": "code",
   "execution_count": 294,
   "id": "2672b6b8-aa92-4127-a756-ff2f416e2ed1",
   "metadata": {},
   "outputs": [
    {
     "name": "stdout",
     "output_type": "stream",
     "text": [
      "Random Forest Accuracy: 0.9447809048806555\n"
     ]
    }
   ],
   "source": [
    "# 3.Random Forest Classifier\n",
    "from sklearn.ensemble import RandomForestClassifier\n",
    "rfc = RandomForestClassifier()\n",
    "rfc.fit(X_train, y_train)\n",
    "y_pred_rfc = rfc.predict(X_test)\n",
    "\n",
    "print(\"Random Forest Accuracy:\", accuracy_score(y_test, y_pred_rfc))\n"
   ]
  },
  {
   "cell_type": "code",
   "execution_count": 295,
   "id": "70c9d17e-9823-422e-a193-ec159029855d",
   "metadata": {},
   "outputs": [
    {
     "name": "stdout",
     "output_type": "stream",
     "text": [
      "KNN Accuracy: 0.9381902386889918\n"
     ]
    }
   ],
   "source": [
    "# 4. K-Nearest Neighbors (KNN)\n",
    "from sklearn.neighbors import KNeighborsClassifier\n",
    "knn = KNeighborsClassifier()\n",
    "knn.fit(X_train, y_train)\n",
    "y_pred_knn = knn.predict(X_test)\n",
    "print(\"KNN Accuracy:\", accuracy_score(y_test, y_pred_knn))\n"
   ]
  },
  {
   "cell_type": "code",
   "execution_count": 296,
   "id": "07c01ef4-e4cf-4b31-8eef-a189e87811f4",
   "metadata": {},
   "outputs": [
    {
     "name": "stdout",
     "output_type": "stream",
     "text": [
      "Decision Tree Accuracy: 0.9091556822230139\n"
     ]
    }
   ],
   "source": [
    "# 5. Decision Tree Classifier\n",
    "from sklearn.tree import DecisionTreeClassifier\n",
    "\n",
    "dt_model = DecisionTreeClassifier(random_state=42)\n",
    "dt_model.fit(X_train, y_train)\n",
    "y_pred_dt = dt_model.predict(X_test)\n",
    "\n",
    "print(\"Decision Tree Accuracy:\", accuracy_score(y_test, y_pred_dt))\n"
   ]
  },
  {
   "cell_type": "code",
   "execution_count": 297,
   "id": "22a5d0cf-bfd0-41cf-84af-2820e4a6810f",
   "metadata": {},
   "outputs": [
    {
     "name": "stdout",
     "output_type": "stream",
     "text": [
      "\n",
      "Final Dataset Shape: (28069, 40)\n"
     ]
    },
    {
     "data": {
      "text/html": [
       "<div>\n",
       "<style scoped>\n",
       "    .dataframe tbody tr th:only-of-type {\n",
       "        vertical-align: middle;\n",
       "    }\n",
       "\n",
       "    .dataframe tbody tr th {\n",
       "        vertical-align: top;\n",
       "    }\n",
       "\n",
       "    .dataframe thead th {\n",
       "        text-align: right;\n",
       "    }\n",
       "</style>\n",
       "<table border=\"1\" class=\"dataframe\">\n",
       "  <thead>\n",
       "    <tr style=\"text-align: right;\">\n",
       "      <th></th>\n",
       "      <th>age</th>\n",
       "      <th>balance</th>\n",
       "      <th>day</th>\n",
       "      <th>duration</th>\n",
       "      <th>campaign</th>\n",
       "      <th>pdays</th>\n",
       "      <th>previous</th>\n",
       "      <th>y</th>\n",
       "      <th>job_blue-collar</th>\n",
       "      <th>job_entrepreneur</th>\n",
       "      <th>...</th>\n",
       "      <th>month_dec</th>\n",
       "      <th>month_feb</th>\n",
       "      <th>month_jan</th>\n",
       "      <th>month_jul</th>\n",
       "      <th>month_jun</th>\n",
       "      <th>month_mar</th>\n",
       "      <th>month_may</th>\n",
       "      <th>month_nov</th>\n",
       "      <th>month_oct</th>\n",
       "      <th>month_sep</th>\n",
       "    </tr>\n",
       "  </thead>\n",
       "  <tbody>\n",
       "    <tr>\n",
       "      <th>0</th>\n",
       "      <td>1.612408</td>\n",
       "      <td>1.623362</td>\n",
       "      <td>-1.348756</td>\n",
       "      <td>0.603566</td>\n",
       "      <td>-1.127567</td>\n",
       "      <td>0.0</td>\n",
       "      <td>0.0</td>\n",
       "      <td>0</td>\n",
       "      <td>False</td>\n",
       "      <td>False</td>\n",
       "      <td>...</td>\n",
       "      <td>False</td>\n",
       "      <td>False</td>\n",
       "      <td>False</td>\n",
       "      <td>False</td>\n",
       "      <td>False</td>\n",
       "      <td>False</td>\n",
       "      <td>True</td>\n",
       "      <td>False</td>\n",
       "      <td>False</td>\n",
       "      <td>False</td>\n",
       "    </tr>\n",
       "    <tr>\n",
       "      <th>1</th>\n",
       "      <td>0.465477</td>\n",
       "      <td>-0.576314</td>\n",
       "      <td>-1.348756</td>\n",
       "      <td>-0.186566</td>\n",
       "      <td>-1.127567</td>\n",
       "      <td>0.0</td>\n",
       "      <td>0.0</td>\n",
       "      <td>0</td>\n",
       "      <td>False</td>\n",
       "      <td>False</td>\n",
       "      <td>...</td>\n",
       "      <td>False</td>\n",
       "      <td>False</td>\n",
       "      <td>False</td>\n",
       "      <td>False</td>\n",
       "      <td>False</td>\n",
       "      <td>False</td>\n",
       "      <td>True</td>\n",
       "      <td>False</td>\n",
       "      <td>False</td>\n",
       "      <td>False</td>\n",
       "    </tr>\n",
       "    <tr>\n",
       "      <th>2</th>\n",
       "      <td>-0.702751</td>\n",
       "      <td>-0.620924</td>\n",
       "      <td>-1.348756</td>\n",
       "      <td>-0.999568</td>\n",
       "      <td>-1.127567</td>\n",
       "      <td>0.0</td>\n",
       "      <td>0.0</td>\n",
       "      <td>0</td>\n",
       "      <td>False</td>\n",
       "      <td>True</td>\n",
       "      <td>...</td>\n",
       "      <td>False</td>\n",
       "      <td>False</td>\n",
       "      <td>False</td>\n",
       "      <td>False</td>\n",
       "      <td>False</td>\n",
       "      <td>False</td>\n",
       "      <td>True</td>\n",
       "      <td>False</td>\n",
       "      <td>False</td>\n",
       "      <td>False</td>\n",
       "    </tr>\n",
       "    <tr>\n",
       "      <th>3</th>\n",
       "      <td>0.737128</td>\n",
       "      <td>1.057644</td>\n",
       "      <td>-1.348756</td>\n",
       "      <td>-0.791320</td>\n",
       "      <td>-1.127567</td>\n",
       "      <td>0.0</td>\n",
       "      <td>0.0</td>\n",
       "      <td>0</td>\n",
       "      <td>True</td>\n",
       "      <td>False</td>\n",
       "      <td>...</td>\n",
       "      <td>False</td>\n",
       "      <td>False</td>\n",
       "      <td>False</td>\n",
       "      <td>False</td>\n",
       "      <td>False</td>\n",
       "      <td>False</td>\n",
       "      <td>True</td>\n",
       "      <td>False</td>\n",
       "      <td>False</td>\n",
       "      <td>False</td>\n",
       "    </tr>\n",
       "    <tr>\n",
       "      <th>4</th>\n",
       "      <td>-0.702751</td>\n",
       "      <td>-0.622812</td>\n",
       "      <td>-1.348756</td>\n",
       "      <td>0.187425</td>\n",
       "      <td>-1.127567</td>\n",
       "      <td>0.0</td>\n",
       "      <td>0.0</td>\n",
       "      <td>0</td>\n",
       "      <td>False</td>\n",
       "      <td>False</td>\n",
       "      <td>...</td>\n",
       "      <td>False</td>\n",
       "      <td>False</td>\n",
       "      <td>False</td>\n",
       "      <td>False</td>\n",
       "      <td>False</td>\n",
       "      <td>False</td>\n",
       "      <td>True</td>\n",
       "      <td>False</td>\n",
       "      <td>False</td>\n",
       "      <td>False</td>\n",
       "    </tr>\n",
       "  </tbody>\n",
       "</table>\n",
       "<p>5 rows × 40 columns</p>\n",
       "</div>"
      ],
      "text/plain": [
       "        age   balance       day  duration  campaign  pdays  previous  y  \\\n",
       "0  1.612408  1.623362 -1.348756  0.603566 -1.127567    0.0       0.0  0   \n",
       "1  0.465477 -0.576314 -1.348756 -0.186566 -1.127567    0.0       0.0  0   \n",
       "2 -0.702751 -0.620924 -1.348756 -0.999568 -1.127567    0.0       0.0  0   \n",
       "3  0.737128  1.057644 -1.348756 -0.791320 -1.127567    0.0       0.0  0   \n",
       "4 -0.702751 -0.622812 -1.348756  0.187425 -1.127567    0.0       0.0  0   \n",
       "\n",
       "   job_blue-collar  job_entrepreneur  ...  month_dec  month_feb  month_jan  \\\n",
       "0            False             False  ...      False      False      False   \n",
       "1            False             False  ...      False      False      False   \n",
       "2            False              True  ...      False      False      False   \n",
       "3             True             False  ...      False      False      False   \n",
       "4            False             False  ...      False      False      False   \n",
       "\n",
       "   month_jul  month_jun  month_mar  month_may  month_nov  month_oct  month_sep  \n",
       "0      False      False      False       True      False      False      False  \n",
       "1      False      False      False       True      False      False      False  \n",
       "2      False      False      False       True      False      False      False  \n",
       "3      False      False      False       True      False      False      False  \n",
       "4      False      False      False       True      False      False      False  \n",
       "\n",
       "[5 rows x 40 columns]"
      ]
     },
     "execution_count": 297,
     "metadata": {},
     "output_type": "execute_result"
    }
   ],
   "source": [
    "# ------------------------- Final Cleaned Data Overview -------------------------\n",
    "print(\"\\nFinal Dataset Shape:\", df.shape)\n",
    "df.head()\n"
   ]
  },
  {
   "cell_type": "markdown",
   "id": "69b59b3f-1e25-4629-9fc9-76dfbad130d2",
   "metadata": {},
   "source": [
    "12. **Model Evaluation:**"
   ]
  },
  {
   "cell_type": "code",
   "execution_count": 299,
   "id": "e99fc08d-03f5-44f1-87bc-3fdc4bad6c71",
   "metadata": {},
   "outputs": [
    {
     "name": "stdout",
     "output_type": "stream",
     "text": [
      "Accuracy: 0.9451371571072319\n",
      "Precision: 0.5581395348837209\n",
      "Recall: 0.07667731629392971\n",
      "F1 Score: 0.1348314606741573\n"
     ]
    },
    {
     "data": {
      "image/png": "[encoded data removed]",
      "text/plain": [
       "<Figure size 640x480 with 2 Axes>"
      ]
     },
     "metadata": {},
     "output_type": "display_data"
    },
    {
     "name": "stdout",
     "output_type": "stream",
     "text": [
      "\n",
      "Classification Report:\n",
      "               precision    recall  f1-score   support\n",
      "\n",
      "           0       0.95      1.00      0.97      5301\n",
      "           1       0.56      0.08      0.13       313\n",
      "\n",
      "    accuracy                           0.95      5614\n",
      "   macro avg       0.75      0.54      0.55      5614\n",
      "weighted avg       0.93      0.95      0.93      5614\n",
      "\n"
     ]
    },
    {
     "data": {
      "image/png": "[encoded data removed]",
      "text/plain": [
       "<Figure size 800x500 with 1 Axes>"
      ]
     },
     "metadata": {},
     "output_type": "display_data"
    }
   ],
   "source": [
    "# Classification Models\n",
    "from sklearn.metrics import accuracy_score, precision_score, recall_score, f1_score, confusion_matrix, classification_report, roc_auc_score, roc_curve\n",
    "import matplotlib.pyplot as plt\n",
    "import seaborn as sns\n",
    "\n",
    "# Accuracy, precision, recall, F1\n",
    "print(\"Accuracy:\", accuracy_score(y_test, y_pred_lr))\n",
    "print(\"Precision:\", precision_score(y_test, y_pred_lr)) \n",
    "print(\"Recall:\", recall_score(y_test, y_pred_lr))\n",
    "print(\"F1 Score:\", f1_score(y_test, y_pred_lr))\n",
    "\n",
    "# Confusion Matrix\n",
    "cm = confusion_matrix(y_test, y_pred_lr)\n",
    "sns.heatmap(cm, annot=True, fmt='d', cmap='Blues')\n",
    "plt.title(\"Confusion Matrix\")\n",
    "plt.xlabel(\"Predicted\")\n",
    "plt.ylabel(\"Actual\")\n",
    "plt.show()\n",
    "\n",
    "# Classification Report\n",
    "print(\"\\nClassification Report:\\n\", classification_report(y_test, y_pred_lr))\n",
    "\n",
    "# ROC Curve\n",
    "y_proba = lr.predict_proba(X_test)[:, 1]  # probability estimates\n",
    "fpr, tpr, thresholds = roc_curve(y_test, y_proba) \n",
    "roc_auc = roc_auc_score(y_test, y_proba)\n",
    "\n",
    "plt.figure(figsize=(8, 5))\n",
    "plt.plot(fpr, tpr, label=f'ROC Curve (AUC = {roc_auc:.2f})')\n",
    "plt.plot([0, 1], [0, 1], 'k--')\n",
    "plt.xlabel(\"False Positive Rate\")\n",
    "plt.ylabel(\"True Positive Rate\")\n",
    "plt.title(\"Receiver Operating Characteristic (ROC) Curve\")\n",
    "plt.legend()\n",
    "plt.show()"
   ]
  },
  {
   "cell_type": "markdown",
   "id": "5c109977-8336-4a44-b8e0-9f8c36900530",
   "metadata": {},
   "source": [
    "Insight The model demonstrates strong classification capability with an AUC of 0.86, indicating a high ability to distinguish between clients who subscribed and those who did not. This suggests the model is well-tuned and effective for predictive analysis in the given banking dataset."
   ]
  },
  {
   "cell_type": "markdown",
   "id": "5f7ee195-1991-4cc1-b545-7c9bc141b8b8",
   "metadata": {},
   "source": [
    "13. **Hyperparameter Tuning:**\n",
    "    To optimize the performance of machine learning models by finding the best combination of hyperparameters."
   ]
  },
  {
   "cell_type": "code",
   "execution_count": 302,
   "id": "9557356b-0e12-445e-9107-8759e8820f05",
   "metadata": {},
   "outputs": [
    {
     "name": "stdout",
     "output_type": "stream",
     "text": [
      "Best Parameters (Random): {'n_estimators': 100, 'min_samples_split': 2, 'min_samples_leaf': 2, 'max_depth': 10, 'bootstrap': True}\n"
     ]
    }
   ],
   "source": [
    "# Choose a Model- let’s use RandomForestClassifier.\n",
    "from sklearn.ensemble import RandomForestClassifier\n",
    "rf = RandomForestClassifier(random_state=42)\n",
    "param_grid = {\n",
    "    'n_estimators': [100, 200],\n",
    "    'max_depth': [None, 10, 20],\n",
    "    'min_samples_split': [2, 5],\n",
    "    'min_samples_leaf': [1, 2],\n",
    "    'bootstrap': [True, False]\n",
    "}\n",
    "from sklearn.model_selection import RandomizedSearchCV\n",
    "\n",
    "random_search = RandomizedSearchCV(estimator=rf,\n",
    "                                   param_distributions=param_grid,\n",
    "                                   n_iter=10,\n",
    "                                   cv=5,\n",
    "                                   random_state=42,\n",
    "                                   n_jobs=-1,\n",
    "                                   scoring='accuracy')\n",
    "random_search.fit(X_train, y_train)\n",
    "print(\"Best Parameters (Random):\", random_search.best_params_)"
   ]
  },
  {
   "cell_type": "markdown",
   "id": "07e4ff98-2d8c-4bb7-aff8-c4e7293c503c",
   "metadata": {},
   "source": [
    "Insight:\n",
    "Hyperparameter tuning significantly enhances model accuracy and generalization by systematically searching the best parameters. For example, a tuned RandomForestClassifier with optimized max_depth and n_estimators outperformed the default model."
   ]
  },
  {
   "cell_type": "markdown",
   "id": "8aa9e98d-4696-4163-bbe1-a1bab533cb58",
   "metadata": {},
   "source": [
    "14. **Save the Model:**"
   ]
  },
  {
   "cell_type": "code",
   "execution_count": 305,
   "id": "db6525ac-ac5d-4c50-bb97-f47901f9b48c",
   "metadata": {},
   "outputs": [],
   "source": [
    "import joblib\n",
    "# Save model\n",
    "# Extract best estimator\n",
    "best_model = random_search.best_estimator_\n",
    "\n",
    "# Save it\n",
    "joblib.dump(best_model, 'final_model.pkl')\n",
    "# Load model\n",
    "loaded_model = joblib.load('final_model.pkl')\n",
    "\n",
    "# Example prediction\n",
    "y_pred = loaded_model.predict(X_test)"
   ]
  },
  {
   "cell_type": "markdown",
   "id": "1d07a5c3-af5c-4348-837c-04eea7f04e21",
   "metadata": {},
   "source": [
    "15. **Test with Unseen Data:**\n"
   ]
  },
  {
   "cell_type": "code",
   "execution_count": 307,
   "id": "10addae3-7987-4a49-9bfa-94936ad81eec",
   "metadata": {},
   "outputs": [
    {
     "name": "stdout",
     "output_type": "stream",
     "text": [
      "Accuracy: 0.9456715354470966\n",
      "\n",
      "Classification Report:\n",
      "               precision    recall  f1-score   support\n",
      "\n",
      "           0       0.95      1.00      0.97      5301\n",
      "           1       0.60      0.08      0.14       313\n",
      "\n",
      "    accuracy                           0.95      5614\n",
      "   macro avg       0.77      0.54      0.55      5614\n",
      "weighted avg       0.93      0.95      0.93      5614\n",
      "\n",
      "\n",
      "Confusion Matrix:\n",
      " [[5285   16]\n",
      " [ 289   24]]\n",
      "\n",
      "ROC AUC Score: 0.8715505483623862\n"
     ]
    },
    {
     "data": {
      "image/png": "[encoded data removed]",
      "text/plain": [
       "<Figure size 600x400 with 1 Axes>"
      ]
     },
     "metadata": {},
     "output_type": "display_data"
    }
   ],
   "source": [
    "from sklearn.metrics import accuracy_score, classification_report, confusion_matrix, roc_auc_score, roc_curve\n",
    "import matplotlib.pyplot as plt\n",
    "\n",
    "best_model = random_search.best_estimator_\n",
    "\n",
    "# Predict on test data\n",
    "y_pred = best_model.predict(X_test)\n",
    "y_proba = best_model.predict_proba(X_test)[:, 1]\n",
    "\n",
    "# Metrics\n",
    "print(\"Accuracy:\", accuracy_score(y_test, y_pred))\n",
    "print(\"\\nClassification Report:\\n\", classification_report(y_test, y_pred))\n",
    "print(\"\\nConfusion Matrix:\\n\", confusion_matrix(y_test, y_pred))\n",
    "print(\"\\nROC AUC Score:\", roc_auc_score(y_test, y_proba))\n",
    "\n",
    "# ROC Curve\n",
    "fpr, tpr, thresholds = roc_curve(y_test, y_proba)\n",
    "plt.figure(figsize=(6, 4))\n",
    "plt.plot(fpr, tpr, label=f\"AUC = {roc_auc_score(y_test, y_proba):.2f}\")\n",
    "plt.plot([0, 1], [0, 1], 'k--')\n",
    "plt.xlabel(\"False Positive Rate\")\n",
    "plt.ylabel(\"True Positive Rate\")\n",
    "plt.title(\"ROC Curve\")\n",
    "plt.legend()\n",
    "plt.grid()\n",
    "plt.show()"
   ]
  },
  {
   "cell_type": "markdown",
   "id": "22cf7472-2d34-4489-b06c-cfd55aaf2c91",
   "metadata": {},
   "source": [
    "Model performed well on unseen data with an AUC of 0.87 and an accuracy of 94%.\n",
    "The ROC curve shows a good tradeoff between true positives and false positives.\n",
    "Slight class imbalance might be present, but overall the model generalizes well."
   ]
  },
  {
   "cell_type": "markdown",
   "id": "5fd52a9f-6068-43f6-b378-c708a81fa558",
   "metadata": {},
   "source": [
    "## Model Performance Summary:\n",
    "The final model ( Random Forest Classifier) achieved:\n",
    "\n",
    "Accuracy:  94%\n",
    "\n",
    "AUC Score: 0.87\n",
    "\n",
    "Precision / Recall / F1-score: All metrics indicate balanced classification, with slightly better performance on the majority class.\n",
    "The ROC curve shows a good balance between sensitivity and specificity, suggesting the model is reliable for binary classification.\n",
    "\n",
    "Key Insights:\n",
    "Duration, balance, and contact month were identified as top predictive features via SelectKBest and Random Forest feature importances.\n",
    "Yeo-Johnson transformation effectively reduced skewness in numeric features, improving model performance.\n",
    "Hyperparameter tuning with RandomizedSearchCV improved accuracy and reduced overfitting.\n",
    "\n",
    "Limitations:\n",
    "Class Imbalance: The target variable (y) had more \"no\" than \"yes\" responses, which may bias the model toward the majority class.\n",
    "Mitigation: Could apply SMOTE or class weighting.\n",
    "Outliers: Even after IQR removal, features like duration retained some outliers.\n",
    "Consider: Z-score-based filtering in future iterations.\n",
    "Feature Dependency: Some features (e.g., duration) might leak information—it's known only after a call ends, which may not be available during prediction.\n",
    "Best practice: Consider removing such features for fair evaluation.\n",
    "Conclusion:\n",
    "The model demonstrates strong predictive performance with good generalization on unseen data. While data preprocessing (handling skewness, encoding, and feature selection) greatly improved results, care should be taken in deploying this model—especially with imbalanced data and potential information leakage. With further refinement and real-time feature selection, this model can be a valuable asset in predicting customer responses."
   ]
  },
  {
   "cell_type": "markdown",
   "id": "a7e053a1-df49-4ca5-a4ed-5e33463488eb",
   "metadata": {},
   "source": [
    "## 17.  Future Work:\n"
   ]
  },
  {
   "cell_type": "markdown",
   "id": "e0cf2a3f-0c66-4810-96c2-0ad9618924b0",
   "metadata": {},
   "source": [
    " 1. Explore Deep Learning Models:\n",
    "Investigate neural networks (e.g., MLP, LSTM) to capture complex patterns in the data.\n",
    "Use frameworks like TensorFlow or PyTorch for better scalability and experimentation.\n",
    "\n",
    " 2. Periodic Model Updates:\n",
    "Continuously retrain the model as new customer data becomes available.\n",
    "Helps maintain relevance and adapt to changes in customer behavior or market trends.\n",
    " 3. Handle Class Imbalance:\n",
    "Apply techniques such as:\n",
    "SMOTE (Synthetic Minority Over-sampling Technique)\n",
    "Class Weight Adjustment\n",
    "Undersampling the majority class\n",
    "Improves model’s ability to correctly predict minority class outcomes (e.g., \"yes\").\n",
    " 4. Add More Features:\n",
    "Collect additional data like:\n",
    "Call duration history\n",
    "Customer lifetime value\n",
    "Interaction frequency\n",
    "Feature engineering from new data sources (e.g., CRM systems) could significantly boost performance.\n",
    " 5. Model Interpretability & Explainability:\n",
    "Use tools like SHAP or LIME to interpret feature importance and decision-making.\n",
    "Especially helpful in regulated environments or where stakeholder trust is needed.\n",
    " 6. Deployment & Integration:\n",
    "Develop a robust pipeline for real-time predictions (using Flask/Django APIs).\n",
    "Integrate with business systems to assist decision-makers or trigger actions based on predictions.\n",
    "\n"
   ]
  },
  {
   "cell_type": "code",
   "execution_count": null,
   "id": "af54809a-c364-48bf-8c22-f19ded26bef9",
   "metadata": {},
   "outputs": [],
   "source": []
  },
  {
   "cell_type": "code",
   "execution_count": null,
   "id": "9baafaa6-b827-4085-ad1d-4d9b3263bc98",
   "metadata": {},
   "outputs": [],
   "source": []
  }
 ],
 "metadata": {
  "kernelspec": {
   "display_name": "Python [conda env:base] *",
   "language": "python",
   "name": "conda-base-py"
  },
  "language_info": {
   "codemirror_mode": {
    "name": "ipython",
    "version": 3
   },
   "file_extension": ".py",
   "mimetype": "text/x-python",
   "name": "python",
   "nbconvert_exporter": "python",
   "pygments_lexer": "ipython3",
   "version": "3.12.7"
  }
 },
 "nbformat": 4,
 "nbformat_minor": 5
}
